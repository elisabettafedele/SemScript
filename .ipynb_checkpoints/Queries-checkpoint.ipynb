{
 "cells": [
  {
   "cell_type": "code",
<<<<<<< HEAD
   "execution_count": 2,
   "id": "0ee3a3ba",
   "metadata": {},
   "outputs": [
    {
     "ename": "ModuleNotFoundError",
     "evalue": "No module named 'endpoints'",
     "output_type": "error",
     "traceback": [
      "\u001b[1;31m---------------------------------------------------------------------------\u001b[0m",
      "\u001b[1;31mModuleNotFoundError\u001b[0m                       Traceback (most recent call last)",
      "\u001b[1;32m<ipython-input-2-907a4269bfcb>\u001b[0m in \u001b[0;36m<module>\u001b[1;34m\u001b[0m\n\u001b[1;32m----> 1\u001b[1;33m \u001b[1;32mimport\u001b[0m \u001b[0mendpoints\u001b[0m\u001b[1;33m\u001b[0m\u001b[1;33m\u001b[0m\u001b[0m\n\u001b[0m",
      "\u001b[1;31mModuleNotFoundError\u001b[0m: No module named 'endpoints'"
=======
   "execution_count": 20,
   "id": "d3901fab",
   "metadata": {},
   "outputs": [
    {
     "name": "stdout",
     "output_type": "stream",
     "text": [
      "Collecting sparqlkernel\n",
      "  Downloading sparqlkernel-1.3.0.tar.gz (32 kB)\n",
      "Requirement already satisfied: setuptools in /opt/anaconda3/lib/python3.8/site-packages (from sparqlkernel) (52.0.0.post20210125)\n",
      "Requirement already satisfied: ipykernel>=4.0 in /opt/anaconda3/lib/python3.8/site-packages (from sparqlkernel) (5.3.4)\n",
      "Requirement already satisfied: notebook in /opt/anaconda3/lib/python3.8/site-packages (from sparqlkernel) (6.3.0)\n",
      "Requirement already satisfied: traitlets in /opt/anaconda3/lib/python3.8/site-packages (from sparqlkernel) (5.0.5)\n",
      "Collecting rdflib\n",
      "  Downloading rdflib-5.0.0-py3-none-any.whl (231 kB)\n",
      "\u001b[K     |████████████████████████████████| 231 kB 103 kB/s eta 0:00:01\n",
      "\u001b[?25hRequirement already satisfied: pygments in /opt/anaconda3/lib/python3.8/site-packages (from sparqlkernel) (2.8.1)\n",
      "Collecting SPARQLWrapper\n",
      "  Downloading SPARQLWrapper-1.8.5-py3-none-any.whl (26 kB)\n",
      "Requirement already satisfied: tornado>=4.2 in /opt/anaconda3/lib/python3.8/site-packages (from ipykernel>=4.0->sparqlkernel) (6.1)\n",
      "Requirement already satisfied: jupyter-client in /opt/anaconda3/lib/python3.8/site-packages (from ipykernel>=4.0->sparqlkernel) (6.1.12)\n",
      "Requirement already satisfied: ipython>=5.0.0 in /opt/anaconda3/lib/python3.8/site-packages (from ipykernel>=4.0->sparqlkernel) (7.22.0)\n",
      "Requirement already satisfied: appnope in /opt/anaconda3/lib/python3.8/site-packages (from ipykernel>=4.0->sparqlkernel) (0.1.2)\n",
      "Requirement already satisfied: decorator in /opt/anaconda3/lib/python3.8/site-packages (from ipython>=5.0.0->ipykernel>=4.0->sparqlkernel) (5.0.6)\n",
      "Requirement already satisfied: prompt-toolkit!=3.0.0,!=3.0.1,<3.1.0,>=2.0.0 in /opt/anaconda3/lib/python3.8/site-packages (from ipython>=5.0.0->ipykernel>=4.0->sparqlkernel) (3.0.17)\n",
      "Requirement already satisfied: pexpect>4.3 in /opt/anaconda3/lib/python3.8/site-packages (from ipython>=5.0.0->ipykernel>=4.0->sparqlkernel) (4.8.0)\n",
      "Requirement already satisfied: pickleshare in /opt/anaconda3/lib/python3.8/site-packages (from ipython>=5.0.0->ipykernel>=4.0->sparqlkernel) (0.7.5)\n",
      "Requirement already satisfied: jedi>=0.16 in /opt/anaconda3/lib/python3.8/site-packages (from ipython>=5.0.0->ipykernel>=4.0->sparqlkernel) (0.17.2)\n",
      "Requirement already satisfied: backcall in /opt/anaconda3/lib/python3.8/site-packages (from ipython>=5.0.0->ipykernel>=4.0->sparqlkernel) (0.2.0)\n",
      "Requirement already satisfied: parso<0.8.0,>=0.7.0 in /opt/anaconda3/lib/python3.8/site-packages (from jedi>=0.16->ipython>=5.0.0->ipykernel>=4.0->sparqlkernel) (0.7.0)\n",
      "Requirement already satisfied: ptyprocess>=0.5 in /opt/anaconda3/lib/python3.8/site-packages (from pexpect>4.3->ipython>=5.0.0->ipykernel>=4.0->sparqlkernel) (0.7.0)\n",
      "Requirement already satisfied: wcwidth in /opt/anaconda3/lib/python3.8/site-packages (from prompt-toolkit!=3.0.0,!=3.0.1,<3.1.0,>=2.0.0->ipython>=5.0.0->ipykernel>=4.0->sparqlkernel) (0.2.5)\n",
      "Requirement already satisfied: ipython-genutils in /opt/anaconda3/lib/python3.8/site-packages (from traitlets->sparqlkernel) (0.2.0)\n",
      "Requirement already satisfied: jupyter-core>=4.6.0 in /opt/anaconda3/lib/python3.8/site-packages (from jupyter-client->ipykernel>=4.0->sparqlkernel) (4.7.1)\n",
      "Requirement already satisfied: pyzmq>=13 in /opt/anaconda3/lib/python3.8/site-packages (from jupyter-client->ipykernel>=4.0->sparqlkernel) (20.0.0)\n",
      "Requirement already satisfied: python-dateutil>=2.1 in /opt/anaconda3/lib/python3.8/site-packages (from jupyter-client->ipykernel>=4.0->sparqlkernel) (2.8.1)\n",
      "Requirement already satisfied: six>=1.5 in /opt/anaconda3/lib/python3.8/site-packages (from python-dateutil>=2.1->jupyter-client->ipykernel>=4.0->sparqlkernel) (1.15.0)\n",
      "Requirement already satisfied: jinja2 in /opt/anaconda3/lib/python3.8/site-packages (from notebook->sparqlkernel) (2.11.3)\n",
      "Requirement already satisfied: nbconvert in /opt/anaconda3/lib/python3.8/site-packages (from notebook->sparqlkernel) (6.0.7)\n",
      "Requirement already satisfied: prometheus-client in /opt/anaconda3/lib/python3.8/site-packages (from notebook->sparqlkernel) (0.10.1)\n",
      "Requirement already satisfied: Send2Trash>=1.5.0 in /opt/anaconda3/lib/python3.8/site-packages (from notebook->sparqlkernel) (1.5.0)\n",
      "Requirement already satisfied: nbformat in /opt/anaconda3/lib/python3.8/site-packages (from notebook->sparqlkernel) (5.1.3)\n",
      "Requirement already satisfied: terminado>=0.8.3 in /opt/anaconda3/lib/python3.8/site-packages (from notebook->sparqlkernel) (0.9.4)\n",
      "Requirement already satisfied: argon2-cffi in /opt/anaconda3/lib/python3.8/site-packages (from notebook->sparqlkernel) (20.1.0)\n",
      "Requirement already satisfied: cffi>=1.0.0 in /opt/anaconda3/lib/python3.8/site-packages (from argon2-cffi->notebook->sparqlkernel) (1.14.5)\n",
      "Requirement already satisfied: pycparser in /opt/anaconda3/lib/python3.8/site-packages (from cffi>=1.0.0->argon2-cffi->notebook->sparqlkernel) (2.20)\n",
      "Requirement already satisfied: MarkupSafe>=0.23 in /opt/anaconda3/lib/python3.8/site-packages (from jinja2->notebook->sparqlkernel) (1.1.1)\n",
      "Requirement already satisfied: bleach in /opt/anaconda3/lib/python3.8/site-packages (from nbconvert->notebook->sparqlkernel) (3.3.0)\n",
      "Requirement already satisfied: pandocfilters>=1.4.1 in /opt/anaconda3/lib/python3.8/site-packages (from nbconvert->notebook->sparqlkernel) (1.4.3)\n",
      "Requirement already satisfied: testpath in /opt/anaconda3/lib/python3.8/site-packages (from nbconvert->notebook->sparqlkernel) (0.4.4)\n",
      "Requirement already satisfied: defusedxml in /opt/anaconda3/lib/python3.8/site-packages (from nbconvert->notebook->sparqlkernel) (0.7.1)\n",
      "Requirement already satisfied: jupyterlab-pygments in /opt/anaconda3/lib/python3.8/site-packages (from nbconvert->notebook->sparqlkernel) (0.1.2)\n",
      "Requirement already satisfied: nbclient<0.6.0,>=0.5.0 in /opt/anaconda3/lib/python3.8/site-packages (from nbconvert->notebook->sparqlkernel) (0.5.3)\n",
      "Requirement already satisfied: entrypoints>=0.2.2 in /opt/anaconda3/lib/python3.8/site-packages (from nbconvert->notebook->sparqlkernel) (0.3)\n",
      "Requirement already satisfied: mistune<2,>=0.8.1 in /opt/anaconda3/lib/python3.8/site-packages (from nbconvert->notebook->sparqlkernel) (0.8.4)\n",
      "Requirement already satisfied: async-generator in /opt/anaconda3/lib/python3.8/site-packages (from nbclient<0.6.0,>=0.5.0->nbconvert->notebook->sparqlkernel) (1.10)\n",
      "Requirement already satisfied: nest-asyncio in /opt/anaconda3/lib/python3.8/site-packages (from nbclient<0.6.0,>=0.5.0->nbconvert->notebook->sparqlkernel) (1.5.1)\n",
      "Requirement already satisfied: jsonschema!=2.5.0,>=2.4 in /opt/anaconda3/lib/python3.8/site-packages (from nbformat->notebook->sparqlkernel) (3.2.0)\n",
      "Requirement already satisfied: pyrsistent>=0.14.0 in /opt/anaconda3/lib/python3.8/site-packages (from jsonschema!=2.5.0,>=2.4->nbformat->notebook->sparqlkernel) (0.17.3)\n",
      "Requirement already satisfied: attrs>=17.4.0 in /opt/anaconda3/lib/python3.8/site-packages (from jsonschema!=2.5.0,>=2.4->nbformat->notebook->sparqlkernel) (20.3.0)\n",
      "Requirement already satisfied: packaging in /opt/anaconda3/lib/python3.8/site-packages (from bleach->nbconvert->notebook->sparqlkernel) (20.9)\n",
      "Requirement already satisfied: webencodings in /opt/anaconda3/lib/python3.8/site-packages (from bleach->nbconvert->notebook->sparqlkernel) (0.5.1)\n",
      "Requirement already satisfied: pyparsing>=2.0.2 in /opt/anaconda3/lib/python3.8/site-packages (from packaging->bleach->nbconvert->notebook->sparqlkernel) (2.4.7)\n",
      "Collecting isodate\n",
      "  Downloading isodate-0.6.0-py2.py3-none-any.whl (45 kB)\n",
      "\u001b[K     |████████████████████████████████| 45 kB 508 kB/s eta 0:00:01\n",
      "\u001b[?25hBuilding wheels for collected packages: sparqlkernel\n",
      "  Building wheel for sparqlkernel (setup.py) ... \u001b[?25ldone\n",
      "\u001b[?25h  Created wheel for sparqlkernel: filename=sparqlkernel-1.3.0-py3-none-any.whl size=33666 sha256=30fc6b84c7fa8fbce3394dde84290c8b1ce3821396e39d519dc21871fa18aea3\n",
      "  Stored in directory: /Users/elisabettafedele/Library/Caches/pip/wheels/a6/87/e6/6410144a41fa5a5dbb8ea14a7f0f6ad4251f0b2ada5d30b7fc\n",
      "Successfully built sparqlkernel\n",
      "Installing collected packages: isodate, rdflib, SPARQLWrapper, sparqlkernel\n",
      "Successfully installed SPARQLWrapper-1.8.5 isodate-0.6.0 rdflib-5.0.0 sparqlkernel-1.3.0\n",
      "Note: you may need to restart the kernel to use updated packages.\n"
>>>>>>> 541f3c26d20f56f271eade4e0a665eeb1cde03ab
     ]
    }
   ],
   "source": [
<<<<<<< HEAD
    "import endpoints"
=======
    "pip install sparqlkernel"
>>>>>>> 541f3c26d20f56f271eade4e0a665eeb1cde03ab
   ]
  },
  {
   "cell_type": "markdown",
   "id": "3539630e",
   "metadata": {},
   "source": [
    "## Query 1\n",
    "\n",
<<<<<<< HEAD
    "Which characters speak in the scene x without appearing there (V.O./ O.S. / O.C.)?"
=======
    "Which characters speak in german at least once?"
>>>>>>> 541f3c26d20f56f271eade4e0a665eeb1cde03ab
   ]
  },
  {
   "cell_type": "code",
<<<<<<< HEAD
   "execution_count": null,
   "id": "3298cd5e",
   "metadata": {},
   "outputs": [],
   "source": []
=======
   "execution_count": 7,
   "id": "3298cd5e",
   "metadata": {},
   "outputs": [
    {
     "ename": "SyntaxError",
     "evalue": "invalid syntax (<ipython-input-7-5a2fad4ea7ca>, line 1)",
     "output_type": "error",
     "traceback": [
      "\u001b[0;36m  File \u001b[0;32m\"<ipython-input-7-5a2fad4ea7ca>\"\u001b[0;36m, line \u001b[0;32m1\u001b[0m\n\u001b[0;31m    SELECT ?name\u001b[0m\n\u001b[0m           ^\u001b[0m\n\u001b[0;31mSyntaxError\u001b[0m\u001b[0;31m:\u001b[0m invalid syntax\n"
     ]
    }
   ],
   "source": [
    "SELECT ?name\n",
    "WHERE { ?character ex:hasName ?name.\n",
    "        ?character ex:says ?something.\n",
    "        FILTER regex(?something, \"(german)\", \"i\")}"
   ]
>>>>>>> 541f3c26d20f56f271eade4e0a665eeb1cde03ab
  },
  {
   "cell_type": "markdown",
   "id": "bed3fb19",
   "metadata": {},
   "source": [
    "## Query 2\n",
    "\n",
<<<<<<< HEAD
    "Which are the numbers of the scenes where the character x is present?"
=======
    "Which characters say the sentence \"Did you know\"?"
>>>>>>> 541f3c26d20f56f271eade4e0a665eeb1cde03ab
   ]
  },
  {
   "cell_type": "code",
   "execution_count": null,
   "id": "4003eb7b",
   "metadata": {},
   "outputs": [],
<<<<<<< HEAD
   "source": []
=======
   "source": [
    "PREFIX ex:      <http://www.semanticweb.org/elisabetta&amp;filippo/ontologies/2021/4/SemScript#>\n",
    "SELECT distinct ?name\n",
    "WHERE { ?character ex:hasName ?name.\n",
    "        ?character ex:says ?something.\n",
    "        FILTER regex(?something, \"Did you know\", \"i\")}"
   ]
>>>>>>> 541f3c26d20f56f271eade4e0a665eeb1cde03ab
  },
  {
   "cell_type": "markdown",
   "id": "4865cd99",
   "metadata": {},
   "source": [
    "## Query 3\n",
    "\n",
<<<<<<< HEAD
    "Which characters speak a foreign language in the film y? Which languages?"
=======
    "Which are the numbers of the scenes played in a New York taxicab by night?"
>>>>>>> 541f3c26d20f56f271eade4e0a665eeb1cde03ab
   ]
  },
  {
   "cell_type": "code",
   "execution_count": null,
   "id": "24a372e7",
   "metadata": {},
   "outputs": [],
<<<<<<< HEAD
   "source": []
=======
   "source": [
    "PREFIX ex:      <http://www.semanticweb.org/elisabetta&amp;filippo/ontologies/2021/4/SemScript#>\n",
    "SELECT ?number\n",
    "WHERE { ?scene ex:location ?location.\n",
    "        ?scene ex:time ?time.\n",
    "        ?scene ex:sceneNumber ?number.\n",
    "        FILTER (?location = \"NY TAXICAB\" && ?time = \"NIGHT\")}"
   ]
>>>>>>> 541f3c26d20f56f271eade4e0a665eeb1cde03ab
  },
  {
   "cell_type": "markdown",
   "id": "2e24a4e9",
   "metadata": {},
   "source": [
    "## Query 4\n",
    "\n",
<<<<<<< HEAD
    "Which character says a sentence x in the movie y?"
=======
    "Which are the pages occupied by the scene number 0?"
>>>>>>> 541f3c26d20f56f271eade4e0a665eeb1cde03ab
   ]
  },
  {
   "cell_type": "code",
   "execution_count": null,
   "id": "1eeea6f3",
   "metadata": {},
   "outputs": [],
<<<<<<< HEAD
   "source": []
  },
  {
   "cell_type": "markdown",
   "id": "85af4b7e",
   "metadata": {},
   "source": [
    "## Query 5\n",
    "\n",
    "Which are the numbers of the scenes played in the campus bar during the night?"
   ]
  },
  {
   "cell_type": "code",
   "execution_count": null,
   "id": "e5fc7e22",
   "metadata": {},
   "outputs": [],
   "source": []
  },
  {
   "cell_type": "markdown",
   "id": "f3d11273",
   "metadata": {},
   "source": [
    "## Query 6\n",
    "\n",
    "Are they doing this action in this scene?"
   ]
  },
  {
   "cell_type": "code",
   "execution_count": null,
   "id": "7b99c398",
   "metadata": {},
   "outputs": [],
   "source": []
  },
  {
   "cell_type": "markdown",
   "id": "d3a36933",
   "metadata": {},
   "source": [
    "## Query 7\n",
    "\n",
    "Which is the transition between these two scenes?"
   ]
  },
  {
   "cell_type": "code",
   "execution_count": null,
   "id": "147c85b4",
   "metadata": {},
   "outputs": [],
   "source": []
  },
  {
   "cell_type": "markdown",
   "id": "c0b37eb7",
   "metadata": {},
   "source": [
    "## Query 8\n",
    "\n",
    "Which is the starting page number of scene number x?"
   ]
  },
  {
   "cell_type": "code",
   "execution_count": null,
   "id": "251e665a",
   "metadata": {},
   "outputs": [],
   "source": []
  },
  {
   "cell_type": "markdown",
   "id": "65328737",
   "metadata": {},
   "source": [
    "## Query 9\n",
    "\n",
    "Which kind of transition is provided between the scene number x and the following one (if any)?"
=======
   "source": [
    "PREFIX ex:      <http://www.semanticweb.org/elisabetta&amp;filippo/ontologies/2021/4/SemScript#>\n",
    "\n",
    "SELECT ?page\n",
    "WHERE { ?scene ex:sceneNumber \"0\".\n",
    "        ?scene ex:page ?page.}\n",
    "ORDER BY ASC(?page)"
   ]
  },
  {
   "cell_type": "markdown",
   "id": "85af4b7e",
   "metadata": {},
   "source": [
    "## Query 5\n",
    "\n",
    "In which part of the day does the scene number 5 take place?"
>>>>>>> 541f3c26d20f56f271eade4e0a665eeb1cde03ab
   ]
  },
  {
   "cell_type": "code",
   "execution_count": null,
<<<<<<< HEAD
   "id": "8052062d",
   "metadata": {},
   "outputs": [],
   "source": []
  },
  {
   "cell_type": "markdown",
   "id": "1f5d571b",
   "metadata": {},
   "source": [
    "## Query 10\n",
    "\n",
    "In which part of the day does the scene number x take place?"
   ]
  },
  {
   "cell_type": "code",
   "execution_count": null,
   "id": "c19be290",
   "metadata": {},
   "outputs": [],
   "source": []
  },
  {
   "cell_type": "markdown",
   "id": "1d8e8d17",
   "metadata": {},
   "source": [
    "## Query 11\n",
    "\n",
    "Which is the most-used word among: “Ricky”, “Betti” and “Poppi”?"
=======
   "id": "e5fc7e22",
   "metadata": {},
   "outputs": [],
   "source": [
    "PREFIX ex:      <http://www.semanticweb.org/elisabetta&amp;filippo/ontologies/2021/4/SemScript#>\n",
    "\n",
    "SELECT ?time\n",
    "WHERE { ?scene ex:sceneNumber \"5\".\n",
    "        ?scene ex:time ?time.}"
   ]
  },
  {
   "cell_type": "markdown",
   "id": "f3d11273",
   "metadata": {},
   "source": [
    "## Query 6\n",
    "\n",
    "How many times is the word \"Facebook\" used?"
>>>>>>> 541f3c26d20f56f271eade4e0a665eeb1cde03ab
   ]
  },
  {
   "cell_type": "code",
   "execution_count": null,
<<<<<<< HEAD
   "id": "57307b9f",
   "metadata": {},
   "outputs": [],
   "source": []
  },
  {
   "cell_type": "markdown",
   "id": "6d7efa29",
   "metadata": {},
   "source": [
    "## Query 12\n",
    "\n",
    "Which are the scenes where two characters talk together?"
   ]
  },
  {
   "cell_type": "code",
   "execution_count": null,
   "id": "55e01ba8",
   "metadata": {},
   "outputs": [],
   "source": []
  },
  {
   "cell_type": "markdown",
   "id": "9af6bc0e",
   "metadata": {},
   "source": [
    "## Query 13\n",
    "\n",
    "Quali oggetti vengono nominati da x ?"
=======
   "id": "7b99c398",
   "metadata": {},
   "outputs": [],
   "source": [
    "PREFIX ex:      <http://www.semanticweb.org/elisabetta&amp;filippo/ontologies/2021/4/SemScript#>\n",
    "\n",
    "SELECT count(?something)\n",
    "       WHERE { ?character ex:says ?something.\n",
    "               FILTER regex(?something, \"Facebook\", \"i\")}"
   ]
  },
  {
   "cell_type": "markdown",
   "id": "d3a36933",
   "metadata": {},
   "source": [
    "## Query 7\n",
    "\n",
    "Which is the starting page of the scene 0?\n"
>>>>>>> 541f3c26d20f56f271eade4e0a665eeb1cde03ab
   ]
  },
  {
   "cell_type": "code",
   "execution_count": null,
<<<<<<< HEAD
   "id": "751ba4c4",
   "metadata": {},
   "outputs": [],
   "source": []
  },
  {
   "cell_type": "markdown",
   "id": "84859d19",
   "metadata": {},
   "source": [
    "## Query 15\n",
    "\n",
    "Where does x meet y?"
   ]
  },
  {
   "cell_type": "code",
   "execution_count": null,
   "id": "de9f0433",
   "metadata": {},
   "outputs": [],
   "source": []
  },
  {
   "cell_type": "markdown",
   "id": "e172ca29",
   "metadata": {},
   "source": [
    "## Query 16\n",
    "\n",
    "Which are the scenes in which x and y appear together?"
=======
   "id": "147c85b4",
   "metadata": {},
   "outputs": [],
   "source": [
    "PREFIX ex:      <http://www.semanticweb.org/elisabetta&amp;filippo/ontologies/2021/4/SemScript#>\n",
    "\n",
    "SELECT (min(?page) AS ?number)\n",
    "WHERE { ?scene ex:sceneNumber \"0\".\n",
    "        ?scene ex:page ?page.}"
   ]
  },
  {
   "cell_type": "markdown",
   "id": "c0b37eb7",
   "metadata": {},
   "source": [
    "## Query 8\n",
    "\n",
    "How many times 2 characters Eduardo and Dustin are in the same scene?"
>>>>>>> 541f3c26d20f56f271eade4e0a665eeb1cde03ab
   ]
  },
  {
   "cell_type": "code",
   "execution_count": null,
<<<<<<< HEAD
   "id": "0501f06d",
   "metadata": {},
   "outputs": [],
   "source": []
  },
  {
   "cell_type": "markdown",
   "id": "333563ae",
   "metadata": {},
   "source": [
    "## Query 18\n",
    "\n",
    "Where does the scene x take place?"
   ]
  },
  {
   "cell_type": "code",
   "execution_count": null,
   "id": "151ac280",
   "metadata": {},
   "outputs": [],
   "source": []
=======
   "id": "251e665a",
   "metadata": {},
   "outputs": [],
   "source": [
    "PREFIX ex:      <http://www.semanticweb.org/elisabetta&amp;filippo/ontologies/2021/4/SemScript#>\n",
    "\n",
    "SELECT (count(?dualDialogueScene) AS ?times)\n",
    "          WHERE { ?dualDialogueScene ex:hasActor1 \"EDUARDO\".\n",
    "                  ?dualDialogueScene ex:hasActor2 \"DUSTIN\".}"
   ]
>>>>>>> 541f3c26d20f56f271eade4e0a665eeb1cde03ab
  }
 ],
 "metadata": {
  "kernelspec": {
   "display_name": "Python 3",
   "language": "python",
   "name": "python3"
  },
  "language_info": {
   "codemirror_mode": {
    "name": "ipython",
    "version": 3
   },
   "file_extension": ".py",
   "mimetype": "text/x-python",
   "name": "python",
   "nbconvert_exporter": "python",
   "pygments_lexer": "ipython3",
<<<<<<< HEAD
   "version": "3.8.5"
=======
   "version": "3.8.8"
>>>>>>> 541f3c26d20f56f271eade4e0a665eeb1cde03ab
  }
 },
 "nbformat": 4,
 "nbformat_minor": 5
}
