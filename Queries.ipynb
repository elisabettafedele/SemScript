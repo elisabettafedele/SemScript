{
 "cells": [
  {
   "cell_type": "markdown",
   "id": "3539630e",
   "metadata": {},
   "source": [
    "## Query 1\n",
    "\n",
    "Which characters speak in the scene x without appearing there (V.O./ O.S. / O.C.)?"
   ]
  },
  {
   "cell_type": "code",
   "execution_count": null,
   "id": "3298cd5e",
   "metadata": {},
   "outputs": [],
   "source": []
  },
  {
   "cell_type": "markdown",
   "id": "bed3fb19",
   "metadata": {},
   "source": [
    "## Query 2\n",
    "\n",
    "Which are the numbers of the scenes where the character x is present?"
   ]
  },
  {
   "cell_type": "code",
   "execution_count": null,
   "id": "4003eb7b",
   "metadata": {},
   "outputs": [],
   "source": []
  },
  {
   "cell_type": "markdown",
   "id": "4865cd99",
   "metadata": {},
   "source": [
    "## Query 3\n",
    "\n",
    "Which characters speak a foreign language in the film y? Which languages?"
   ]
  },
  {
   "cell_type": "code",
   "execution_count": null,
   "id": "24a372e7",
   "metadata": {},
   "outputs": [],
   "source": []
  },
  {
   "cell_type": "markdown",
   "id": "2e24a4e9",
   "metadata": {},
   "source": [
    "## Query 4\n",
    "\n",
    "Which character says a sentence x in the movie y?"
   ]
  },
  {
   "cell_type": "code",
   "execution_count": null,
   "id": "1eeea6f3",
   "metadata": {},
   "outputs": [],
   "source": []
  },
  {
   "cell_type": "markdown",
   "id": "85af4b7e",
   "metadata": {},
   "source": [
    "## Query 5\n",
    "\n",
    "Which are the numbers of the scenes played in the campus bar during the night?"
   ]
  },
  {
   "cell_type": "code",
   "execution_count": null,
   "id": "e5fc7e22",
   "metadata": {},
   "outputs": [],
   "source": []
  },
  {
   "cell_type": "markdown",
   "id": "f3d11273",
   "metadata": {},
   "source": [
    "## Query 6\n",
    "\n",
    "Are they doing this action in this scene?"
   ]
  },
  {
   "cell_type": "code",
   "execution_count": null,
   "id": "7b99c398",
   "metadata": {},
   "outputs": [],
   "source": []
  },
  {
   "cell_type": "markdown",
   "id": "d3a36933",
   "metadata": {},
   "source": [
    "## Query 7\n",
    "\n",
    "Which is the transition between these two scenes?"
   ]
  },
  {
   "cell_type": "code",
   "execution_count": null,
   "id": "147c85b4",
   "metadata": {},
   "outputs": [],
   "source": []
  },
  {
   "cell_type": "markdown",
   "id": "c0b37eb7",
   "metadata": {},
   "source": [
    "## Query 8\n",
    "\n",
    "Which is the starting page number of scene number x?"
   ]
  },
  {
   "cell_type": "code",
   "execution_count": null,
   "id": "251e665a",
   "metadata": {},
   "outputs": [],
   "source": []
  },
  {
   "cell_type": "markdown",
   "id": "65328737",
   "metadata": {},
   "source": [
    "## Query 9\n",
    "\n",
    "Which kind of transition is provided between the scene number x and the following one (if any)?"
   ]
  },
  {
   "cell_type": "code",
   "execution_count": null,
   "id": "8052062d",
   "metadata": {},
   "outputs": [],
   "source": []
  },
  {
   "cell_type": "markdown",
   "id": "1f5d571b",
   "metadata": {},
   "source": [
    "## Query 10\n",
    "\n",
    "In which part of the day does the scene number x take place?"
   ]
  },
  {
   "cell_type": "code",
   "execution_count": null,
   "id": "c19be290",
   "metadata": {},
   "outputs": [],
   "source": []
  },
  {
   "cell_type": "markdown",
   "id": "1d8e8d17",
   "metadata": {},
   "source": [
    "## Query 11\n",
    "\n",
    "Which is the most-used word among: “Ricky”, “Betti” and “Poppi”?"
   ]
  },
  {
   "cell_type": "code",
   "execution_count": null,
   "id": "57307b9f",
   "metadata": {},
   "outputs": [],
   "source": []
  },
  {
   "cell_type": "markdown",
   "id": "6d7efa29",
   "metadata": {},
   "source": [
    "## Query 12\n",
    "\n",
    "Which are the scenes where two characters talk together?"
   ]
  },
  {
   "cell_type": "code",
   "execution_count": null,
   "id": "55e01ba8",
   "metadata": {},
   "outputs": [],
   "source": []
  },
  {
   "cell_type": "markdown",
   "id": "9af6bc0e",
   "metadata": {},
   "source": [
    "## Query 13\n",
    "\n",
    "Quali oggetti vengono nominati da x ?"
   ]
  },
  {
   "cell_type": "code",
   "execution_count": null,
   "id": "751ba4c4",
   "metadata": {},
   "outputs": [],
   "source": []
  },
  {
   "cell_type": "markdown",
   "id": "84859d19",
   "metadata": {},
   "source": [
    "## Query 15\n",
    "\n",
    "Where does x meet y?"
   ]
  },
  {
   "cell_type": "code",
   "execution_count": null,
   "id": "de9f0433",
   "metadata": {},
   "outputs": [],
   "source": []
  },
  {
   "cell_type": "markdown",
   "id": "e172ca29",
   "metadata": {},
   "source": [
    "## Query 16\n",
    "\n",
    "Which are the scenes in which x and y appear together?"
   ]
  },
  {
   "cell_type": "code",
   "execution_count": null,
   "id": "0501f06d",
   "metadata": {},
   "outputs": [],
   "source": []
  },
  {
   "cell_type": "markdown",
   "id": "333563ae",
   "metadata": {},
   "source": [
    "## Query 18\n",
    "\n",
    "Where does the scene x take place?"
   ]
  },
  {
   "cell_type": "code",
   "execution_count": null,
   "id": "151ac280",
   "metadata": {},
   "outputs": [],
   "source": []
  }
 ],
 "metadata": {
  "kernelspec": {
   "display_name": "Python 3",
   "language": "python",
   "name": "python3"
  },
  "language_info": {
   "codemirror_mode": {
    "name": "ipython",
    "version": 3
   },
   "file_extension": ".py",
   "mimetype": "text/x-python",
   "name": "python",
   "nbconvert_exporter": "python",
   "pygments_lexer": "ipython3",
   "version": "3.8.8"
  }
 },
 "nbformat": 4,
 "nbformat_minor": 5
}
